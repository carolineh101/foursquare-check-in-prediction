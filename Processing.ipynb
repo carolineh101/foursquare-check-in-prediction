{
 "cells": [
  {
   "cell_type": "code",
   "execution_count": 1,
   "metadata": {},
   "outputs": [],
   "source": [
    "import pandas as pd\n",
    "import numpy as np"
   ]
  },
  {
   "cell_type": "code",
   "execution_count": 2,
   "metadata": {},
   "outputs": [],
   "source": [
    "df_gender = pd.read_csv('dataset_UbiComp2016/dataset_UbiComp2016_UserProfile_NYC.txt', sep = '\\t', header = None)\n",
    "#df_friends = pd.read_csv('dataset_WWW2019/dataset_WWW_friendship_new.txt', sep = '\\t', header = None)\n",
    "df_checkin = pd.read_csv('dataset_WWW2019/raw_Checkins_anonymized.txt', sep = '\\t', header = None)"
   ]
  },
  {
   "cell_type": "code",
   "execution_count": 7,
   "metadata": {},
   "outputs": [],
   "source": [
    "df_checkin2 = df_checkin[df_checkin[0].isin(df_gender[0])]"
   ]
  },
  {
   "cell_type": "code",
   "execution_count": 8,
   "metadata": {},
   "outputs": [],
   "source": [
    "df_checkin2.to_csv(\"gender-checkins-tokyo.csv\",sep = '\\t')"
   ]
  },
  {
   "cell_type": "code",
   "execution_count": 9,
   "metadata": {},
   "outputs": [],
   "source": [
    "df_poi = pd.read_csv('dataset_WWW2019/raw_POIs.txt', sep = '\\t', header = None)"
   ]
  },
  {
   "cell_type": "code",
   "execution_count": 10,
   "metadata": {},
   "outputs": [],
   "source": [
    "df_checkin2 = df_checkin2.rename(columns={0:'User_ID' , 1: 'Venue_ID', 2:'UTC_Time', 3:'Timezone_Offset'})"
   ]
  },
  {
   "cell_type": "code",
   "execution_count": 11,
   "metadata": {},
   "outputs": [],
   "source": [
    "df_poi = df_poi.rename(columns={0:'Venue_ID' , 1: 'Lat', 2:'Long', 3:'Category', 4:'Country_Code'})"
   ]
  },
  {
   "cell_type": "code",
   "execution_count": 12,
   "metadata": {},
   "outputs": [],
   "source": [
    "df = df_checkin2.merge(df_poi, on='Venue_ID', how='left')"
   ]
  },
  {
   "cell_type": "code",
   "execution_count": 13,
   "metadata": {},
   "outputs": [
    {
     "data": {
      "text/html": [
       "<div>\n",
       "<style scoped>\n",
       "    .dataframe tbody tr th:only-of-type {\n",
       "        vertical-align: middle;\n",
       "    }\n",
       "\n",
       "    .dataframe tbody tr th {\n",
       "        vertical-align: top;\n",
       "    }\n",
       "\n",
       "    .dataframe thead th {\n",
       "        text-align: right;\n",
       "    }\n",
       "</style>\n",
       "<table border=\"1\" class=\"dataframe\">\n",
       "  <thead>\n",
       "    <tr style=\"text-align: right;\">\n",
       "      <th></th>\n",
       "      <th>User_ID</th>\n",
       "      <th>Venue_ID</th>\n",
       "      <th>UTC_Time</th>\n",
       "      <th>Timezone_Offset</th>\n",
       "      <th>Lat</th>\n",
       "      <th>Long</th>\n",
       "      <th>Category</th>\n",
       "      <th>Country_Code</th>\n",
       "    </tr>\n",
       "  </thead>\n",
       "  <tbody>\n",
       "    <tr>\n",
       "      <th>0</th>\n",
       "      <td>209805</td>\n",
       "      <td>4b2277b1f964a5203f4724e3</td>\n",
       "      <td>Tue Apr 03 18:00:15 +0000 2012</td>\n",
       "      <td>-300</td>\n",
       "      <td>41.886485</td>\n",
       "      <td>-87.623692</td>\n",
       "      <td>Conference Room</td>\n",
       "      <td>US</td>\n",
       "    </tr>\n",
       "    <tr>\n",
       "      <th>1</th>\n",
       "      <td>93016</td>\n",
       "      <td>4b1e7a92f964a5205c1a24e3</td>\n",
       "      <td>Tue Apr 03 18:01:07 +0000 2012</td>\n",
       "      <td>-300</td>\n",
       "      <td>41.894080</td>\n",
       "      <td>-87.799654</td>\n",
       "      <td>Museum</td>\n",
       "      <td>US</td>\n",
       "    </tr>\n",
       "    <tr>\n",
       "      <th>2</th>\n",
       "      <td>239096</td>\n",
       "      <td>4ad4bffcf964a52029ea20e3</td>\n",
       "      <td>Tue Apr 03 18:01:08 +0000 2012</td>\n",
       "      <td>-300</td>\n",
       "      <td>29.425095</td>\n",
       "      <td>-98.485222</td>\n",
       "      <td>Hotel</td>\n",
       "      <td>US</td>\n",
       "    </tr>\n",
       "    <tr>\n",
       "      <th>3</th>\n",
       "      <td>221343</td>\n",
       "      <td>4b219d3af964a520f83e24e3</td>\n",
       "      <td>Tue Apr 03 18:02:08 +0000 2012</td>\n",
       "      <td>-240</td>\n",
       "      <td>35.303885</td>\n",
       "      <td>-80.749191</td>\n",
       "      <td>Burrito Place</td>\n",
       "      <td>US</td>\n",
       "    </tr>\n",
       "    <tr>\n",
       "      <th>4</th>\n",
       "      <td>535</td>\n",
       "      <td>4af0b093f964a52043de21e3</td>\n",
       "      <td>Tue Apr 03 18:03:20 +0000 2012</td>\n",
       "      <td>-300</td>\n",
       "      <td>29.435305</td>\n",
       "      <td>-98.500543</td>\n",
       "      <td>Vegetarian / Vegan Restaurant</td>\n",
       "      <td>US</td>\n",
       "    </tr>\n",
       "  </tbody>\n",
       "</table>\n",
       "</div>"
      ],
      "text/plain": [
       "   User_ID                  Venue_ID                        UTC_Time  \\\n",
       "0   209805  4b2277b1f964a5203f4724e3  Tue Apr 03 18:00:15 +0000 2012   \n",
       "1    93016  4b1e7a92f964a5205c1a24e3  Tue Apr 03 18:01:07 +0000 2012   \n",
       "2   239096  4ad4bffcf964a52029ea20e3  Tue Apr 03 18:01:08 +0000 2012   \n",
       "3   221343  4b219d3af964a520f83e24e3  Tue Apr 03 18:02:08 +0000 2012   \n",
       "4      535  4af0b093f964a52043de21e3  Tue Apr 03 18:03:20 +0000 2012   \n",
       "\n",
       "   Timezone_Offset        Lat       Long                       Category  \\\n",
       "0             -300  41.886485 -87.623692                Conference Room   \n",
       "1             -300  41.894080 -87.799654                         Museum   \n",
       "2             -300  29.425095 -98.485222                          Hotel   \n",
       "3             -240  35.303885 -80.749191                  Burrito Place   \n",
       "4             -300  29.435305 -98.500543  Vegetarian / Vegan Restaurant   \n",
       "\n",
       "  Country_Code  \n",
       "0           US  \n",
       "1           US  \n",
       "2           US  \n",
       "3           US  \n",
       "4           US  "
      ]
     },
     "execution_count": 13,
     "metadata": {},
     "output_type": "execute_result"
    }
   ],
   "source": [
    "df.head()"
   ]
  },
  {
   "cell_type": "code",
   "execution_count": 14,
   "metadata": {},
   "outputs": [],
   "source": [
    "df.to_csv(\"gender-checkins-complete.csv\",sep = '\\t')"
   ]
  },
  {
   "cell_type": "code",
   "execution_count": null,
   "metadata": {},
   "outputs": [],
   "source": []
  }
 ],
 "metadata": {
  "kernelspec": {
   "display_name": "Python (myenv)",
   "language": "python",
   "name": "ipykernel_py3"
  },
  "language_info": {
   "codemirror_mode": {
    "name": "ipython",
    "version": 3
   },
   "file_extension": ".py",
   "mimetype": "text/x-python",
   "name": "python",
   "nbconvert_exporter": "python",
   "pygments_lexer": "ipython3",
   "version": "3.7.2"
  }
 },
 "nbformat": 4,
 "nbformat_minor": 2
}
