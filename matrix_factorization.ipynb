{
 "cells": [
  {
   "cell_type": "markdown",
   "metadata": {},
   "source": [
    "<h1>Matrix Factorization for Check-In Prediction</h1>\n",
    "<h2>MS&E 234</h2>"
   ]
  },
  {
   "cell_type": "markdown",
   "metadata": {},
   "source": [
    "<h3>Setup</h3>"
   ]
  },
  {
   "cell_type": "markdown",
   "metadata": {},
   "source": [
    "We import necessary libraries and read in our dataset."
   ]
  },
  {
   "cell_type": "code",
   "execution_count": 1,
   "metadata": {},
   "outputs": [],
   "source": [
    "import pandas as pd\n",
    "import numpy as np\n",
    "from matplotlib import pyplot as plt"
   ]
  },
  {
   "cell_type": "markdown",
   "metadata": {},
   "source": [
    "The check-in dataset below is modified from the original check-in dataset to 1) limit data points to users with known genders and 2) include venue category."
   ]
  },
  {
   "cell_type": "code",
   "execution_count": 2,
   "metadata": {},
   "outputs": [],
   "source": [
    "check_ins = pd.read_csv('gender-checkins-complete.csv', delimiter='\\t', index_col=0)"
   ]
  },
  {
   "cell_type": "code",
   "execution_count": 3,
   "metadata": {},
   "outputs": [
    {
     "data": {
      "text/html": [
       "<div>\n",
       "<style scoped>\n",
       "    .dataframe tbody tr th:only-of-type {\n",
       "        vertical-align: middle;\n",
       "    }\n",
       "\n",
       "    .dataframe tbody tr th {\n",
       "        vertical-align: top;\n",
       "    }\n",
       "\n",
       "    .dataframe thead th {\n",
       "        text-align: right;\n",
       "    }\n",
       "</style>\n",
       "<table border=\"1\" class=\"dataframe\">\n",
       "  <thead>\n",
       "    <tr style=\"text-align: right;\">\n",
       "      <th></th>\n",
       "      <th>User_ID</th>\n",
       "      <th>Venue_ID</th>\n",
       "      <th>UTC_Time</th>\n",
       "      <th>Timezone_Offset</th>\n",
       "      <th>Lat</th>\n",
       "      <th>Long</th>\n",
       "      <th>Category</th>\n",
       "      <th>Country_Code</th>\n",
       "    </tr>\n",
       "  </thead>\n",
       "  <tbody>\n",
       "    <tr>\n",
       "      <th>0</th>\n",
       "      <td>21939</td>\n",
       "      <td>4dd53b151f6ec4e0bb8c0480</td>\n",
       "      <td>Tue Apr 03 18:00:49 +0000 2012</td>\n",
       "      <td>-240</td>\n",
       "      <td>39.285600</td>\n",
       "      <td>-76.612047</td>\n",
       "      <td>Clothing Store</td>\n",
       "      <td>US</td>\n",
       "    </tr>\n",
       "    <tr>\n",
       "      <th>1</th>\n",
       "      <td>163646</td>\n",
       "      <td>4b70040ff964a52080032de3</td>\n",
       "      <td>Tue Apr 03 18:01:31 +0000 2012</td>\n",
       "      <td>-240</td>\n",
       "      <td>25.716845</td>\n",
       "      <td>-80.281378</td>\n",
       "      <td>College Cafeteria</td>\n",
       "      <td>US</td>\n",
       "    </tr>\n",
       "    <tr>\n",
       "      <th>2</th>\n",
       "      <td>256534</td>\n",
       "      <td>4b29929cf964a5200fa124e3</td>\n",
       "      <td>Tue Apr 03 18:01:37 +0000 2012</td>\n",
       "      <td>-360</td>\n",
       "      <td>40.726135</td>\n",
       "      <td>-111.852087</td>\n",
       "      <td>American Restaurant</td>\n",
       "      <td>US</td>\n",
       "    </tr>\n",
       "    <tr>\n",
       "      <th>3</th>\n",
       "      <td>176836</td>\n",
       "      <td>4b66f88ff964a520eb322be3</td>\n",
       "      <td>Tue Apr 03 18:01:40 +0000 2012</td>\n",
       "      <td>-300</td>\n",
       "      <td>29.661129</td>\n",
       "      <td>-95.115077</td>\n",
       "      <td>Community College</td>\n",
       "      <td>US</td>\n",
       "    </tr>\n",
       "    <tr>\n",
       "      <th>4</th>\n",
       "      <td>181560</td>\n",
       "      <td>4bc7086715a7ef3bef9878da</td>\n",
       "      <td>Tue Apr 03 18:02:41 +0000 2012</td>\n",
       "      <td>-240</td>\n",
       "      <td>40.745164</td>\n",
       "      <td>-73.982519</td>\n",
       "      <td>Medical Center</td>\n",
       "      <td>US</td>\n",
       "    </tr>\n",
       "  </tbody>\n",
       "</table>\n",
       "</div>"
      ],
      "text/plain": [
       "   User_ID                  Venue_ID                        UTC_Time  \\\n",
       "0    21939  4dd53b151f6ec4e0bb8c0480  Tue Apr 03 18:00:49 +0000 2012   \n",
       "1   163646  4b70040ff964a52080032de3  Tue Apr 03 18:01:31 +0000 2012   \n",
       "2   256534  4b29929cf964a5200fa124e3  Tue Apr 03 18:01:37 +0000 2012   \n",
       "3   176836  4b66f88ff964a520eb322be3  Tue Apr 03 18:01:40 +0000 2012   \n",
       "4   181560  4bc7086715a7ef3bef9878da  Tue Apr 03 18:02:41 +0000 2012   \n",
       "\n",
       "   Timezone_Offset        Lat        Long             Category Country_Code  \n",
       "0             -240  39.285600  -76.612047       Clothing Store           US  \n",
       "1             -240  25.716845  -80.281378    College Cafeteria           US  \n",
       "2             -360  40.726135 -111.852087  American Restaurant           US  \n",
       "3             -300  29.661129  -95.115077    Community College           US  \n",
       "4             -240  40.745164  -73.982519       Medical Center           US  "
      ]
     },
     "execution_count": 3,
     "metadata": {},
     "output_type": "execute_result"
    }
   ],
   "source": [
    "check_ins.head()"
   ]
  },
  {
   "cell_type": "markdown",
   "metadata": {},
   "source": [
    "We will choose the category to predict: specific venue or venue category."
   ]
  },
  {
   "cell_type": "code",
   "execution_count": 4,
   "metadata": {},
   "outputs": [],
   "source": [
    "category = 'Category'  # 'Venue_ID'"
   ]
  },
  {
   "cell_type": "markdown",
   "metadata": {},
   "source": [
    "### Preprocessing\n",
    "\n",
    "The following functions reduce the data to users who have made 80+ check-ins in the past."
   ]
  },
  {
   "cell_type": "code",
   "execution_count": 5,
   "metadata": {
    "scrolled": true
   },
   "outputs": [],
   "source": [
    "threshold = 80 # Any user that has less than (threshold) check-ins will be removed.\n",
    "\n",
    "value_counts = check_ins['User_ID'].value_counts() # Specific column \n",
    "to_remove = value_counts[value_counts <= threshold].index\n",
    "check_ins = check_ins[~check_ins['User_ID'].isin(to_remove)]"
   ]
  },
  {
   "cell_type": "code",
   "execution_count": 6,
   "metadata": {},
   "outputs": [
    {
     "data": {
      "text/plain": [
       "'There are 465613 check-ins, made by 2290 users.'"
      ]
     },
     "execution_count": 6,
     "metadata": {},
     "output_type": "execute_result"
    }
   ],
   "source": [
    "\"There are %d check-ins, made by %d users.\" %(len(check_ins), check_ins['User_ID'].nunique())"
   ]
  },
  {
   "cell_type": "code",
   "execution_count": 7,
   "metadata": {},
   "outputs": [
    {
     "data": {
      "text/plain": [
       "433"
      ]
     },
     "execution_count": 7,
     "metadata": {},
     "output_type": "execute_result"
    }
   ],
   "source": [
    "check_ins[category].nunique()"
   ]
  },
  {
   "cell_type": "markdown",
   "metadata": {},
   "source": [
    "### Data Split"
   ]
  },
  {
   "cell_type": "code",
   "execution_count": 8,
   "metadata": {},
   "outputs": [
    {
     "data": {
      "text/html": [
       "<div>\n",
       "<style scoped>\n",
       "    .dataframe tbody tr th:only-of-type {\n",
       "        vertical-align: middle;\n",
       "    }\n",
       "\n",
       "    .dataframe tbody tr th {\n",
       "        vertical-align: top;\n",
       "    }\n",
       "\n",
       "    .dataframe thead th {\n",
       "        text-align: right;\n",
       "    }\n",
       "</style>\n",
       "<table border=\"1\" class=\"dataframe\">\n",
       "  <thead>\n",
       "    <tr style=\"text-align: right;\">\n",
       "      <th></th>\n",
       "      <th>User_ID</th>\n",
       "      <th>Venue_ID</th>\n",
       "      <th>UTC_Time</th>\n",
       "      <th>Timezone_Offset</th>\n",
       "      <th>Lat</th>\n",
       "      <th>Long</th>\n",
       "      <th>Category</th>\n",
       "      <th>Country_Code</th>\n",
       "    </tr>\n",
       "  </thead>\n",
       "  <tbody>\n",
       "    <tr>\n",
       "      <th>8621</th>\n",
       "      <td>54</td>\n",
       "      <td>4bb3a86c4019a593e14138b8</td>\n",
       "      <td>Sat Apr 07 23:51:17 +0000 2012</td>\n",
       "      <td>-600</td>\n",
       "      <td>20.648591</td>\n",
       "      <td>-156.442308</td>\n",
       "      <td>Surf Spot</td>\n",
       "      <td>US</td>\n",
       "    </tr>\n",
       "    <tr>\n",
       "      <th>14826</th>\n",
       "      <td>54</td>\n",
       "      <td>4c3bf087b36ac928e4850386</td>\n",
       "      <td>Mon Apr 09 23:58:24 +0000 2012</td>\n",
       "      <td>-600</td>\n",
       "      <td>21.008267</td>\n",
       "      <td>-156.556955</td>\n",
       "      <td>Lake</td>\n",
       "      <td>US</td>\n",
       "    </tr>\n",
       "    <tr>\n",
       "      <th>21779</th>\n",
       "      <td>54</td>\n",
       "      <td>4c0f13fcd64c0f47b055295d</td>\n",
       "      <td>Thu Apr 12 07:16:01 +0000 2012</td>\n",
       "      <td>-600</td>\n",
       "      <td>20.926547</td>\n",
       "      <td>-156.694711</td>\n",
       "      <td>Japanese Restaurant</td>\n",
       "      <td>US</td>\n",
       "    </tr>\n",
       "    <tr>\n",
       "      <th>28025</th>\n",
       "      <td>54</td>\n",
       "      <td>4de0117c45dd3eae8764d6ac</td>\n",
       "      <td>Fri Apr 13 22:48:37 +0000 2012</td>\n",
       "      <td>-420</td>\n",
       "      <td>37.781213</td>\n",
       "      <td>-122.402973</td>\n",
       "      <td>Tech Startup</td>\n",
       "      <td>US</td>\n",
       "    </tr>\n",
       "    <tr>\n",
       "      <th>28446</th>\n",
       "      <td>54</td>\n",
       "      <td>49ca8f4df964a520b9581fe3</td>\n",
       "      <td>Sat Apr 14 00:23:43 +0000 2012</td>\n",
       "      <td>-420</td>\n",
       "      <td>37.782464</td>\n",
       "      <td>-122.407823</td>\n",
       "      <td>Coffee Shop</td>\n",
       "      <td>US</td>\n",
       "    </tr>\n",
       "  </tbody>\n",
       "</table>\n",
       "</div>"
      ],
      "text/plain": [
       "       User_ID                  Venue_ID                        UTC_Time  \\\n",
       "8621        54  4bb3a86c4019a593e14138b8  Sat Apr 07 23:51:17 +0000 2012   \n",
       "14826       54  4c3bf087b36ac928e4850386  Mon Apr 09 23:58:24 +0000 2012   \n",
       "21779       54  4c0f13fcd64c0f47b055295d  Thu Apr 12 07:16:01 +0000 2012   \n",
       "28025       54  4de0117c45dd3eae8764d6ac  Fri Apr 13 22:48:37 +0000 2012   \n",
       "28446       54  49ca8f4df964a520b9581fe3  Sat Apr 14 00:23:43 +0000 2012   \n",
       "\n",
       "       Timezone_Offset        Lat        Long             Category  \\\n",
       "8621              -600  20.648591 -156.442308            Surf Spot   \n",
       "14826             -600  21.008267 -156.556955                 Lake   \n",
       "21779             -600  20.926547 -156.694711  Japanese Restaurant   \n",
       "28025             -420  37.781213 -122.402973         Tech Startup   \n",
       "28446             -420  37.782464 -122.407823          Coffee Shop   \n",
       "\n",
       "      Country_Code  \n",
       "8621            US  \n",
       "14826           US  \n",
       "21779           US  \n",
       "28025           US  \n",
       "28446           US  "
      ]
     },
     "execution_count": 8,
     "metadata": {},
     "output_type": "execute_result"
    }
   ],
   "source": [
    "split = 0.8\n",
    "\n",
    "X_train = (check_ins.groupby('User_ID', group_keys=False).apply(lambda x: x.nlargest(int(len(x) * split), 'User_ID')))\n",
    "X_train.head()"
   ]
  },
  {
   "cell_type": "code",
   "execution_count": 9,
   "metadata": {},
   "outputs": [],
   "source": [
    "X_test = check_ins[~check_ins.isin(X_train)].dropna()"
   ]
  },
  {
   "cell_type": "markdown",
   "metadata": {},
   "source": [
    "### Ratings Matrix Creation"
   ]
  },
  {
   "cell_type": "code",
   "execution_count": 10,
   "metadata": {},
   "outputs": [],
   "source": [
    "R_df = X_train.groupby(['User_ID', category]).size().reset_index(name=\"Frequency\")"
   ]
  },
  {
   "cell_type": "code",
   "execution_count": 11,
   "metadata": {},
   "outputs": [],
   "source": [
    "Total_Visits = X_train.groupby(['User_ID']).size().reset_index(name=\"Total_Visits\")\n",
    "R_df = pd.merge(R_df, Total_Visits, on = 'User_ID', how='left', sort = 'False')"
   ]
  },
  {
   "cell_type": "code",
   "execution_count": 12,
   "metadata": {},
   "outputs": [
    {
     "data": {
      "text/plain": [
       "162.24366812227075"
      ]
     },
     "execution_count": 12,
     "metadata": {},
     "output_type": "execute_result"
    }
   ],
   "source": [
    "np.mean(Total_Visits['Total_Visits'])"
   ]
  },
  {
   "cell_type": "code",
   "execution_count": 13,
   "metadata": {},
   "outputs": [],
   "source": [
    "R_df['Adj_Freq'] = R_df['Frequency'] / R_df['Total_Visits'] * 1.0"
   ]
  },
  {
   "cell_type": "code",
   "execution_count": 14,
   "metadata": {},
   "outputs": [
    {
     "data": {
      "text/html": [
       "<div>\n",
       "<style scoped>\n",
       "    .dataframe tbody tr th:only-of-type {\n",
       "        vertical-align: middle;\n",
       "    }\n",
       "\n",
       "    .dataframe tbody tr th {\n",
       "        vertical-align: top;\n",
       "    }\n",
       "\n",
       "    .dataframe thead th {\n",
       "        text-align: right;\n",
       "    }\n",
       "</style>\n",
       "<table border=\"1\" class=\"dataframe\">\n",
       "  <thead>\n",
       "    <tr style=\"text-align: right;\">\n",
       "      <th></th>\n",
       "      <th>User_ID</th>\n",
       "      <th>Category</th>\n",
       "      <th>Frequency</th>\n",
       "      <th>Total_Visits</th>\n",
       "      <th>Adj_Freq</th>\n",
       "    </tr>\n",
       "  </thead>\n",
       "  <tbody>\n",
       "    <tr>\n",
       "      <th>0</th>\n",
       "      <td>54</td>\n",
       "      <td>Airport</td>\n",
       "      <td>5</td>\n",
       "      <td>108</td>\n",
       "      <td>0.046296</td>\n",
       "    </tr>\n",
       "    <tr>\n",
       "      <th>1</th>\n",
       "      <td>54</td>\n",
       "      <td>American Restaurant</td>\n",
       "      <td>1</td>\n",
       "      <td>108</td>\n",
       "      <td>0.009259</td>\n",
       "    </tr>\n",
       "    <tr>\n",
       "      <th>2</th>\n",
       "      <td>54</td>\n",
       "      <td>Bar</td>\n",
       "      <td>1</td>\n",
       "      <td>108</td>\n",
       "      <td>0.009259</td>\n",
       "    </tr>\n",
       "    <tr>\n",
       "      <th>3</th>\n",
       "      <td>54</td>\n",
       "      <td>Beach</td>\n",
       "      <td>2</td>\n",
       "      <td>108</td>\n",
       "      <td>0.018519</td>\n",
       "    </tr>\n",
       "    <tr>\n",
       "      <th>4</th>\n",
       "      <td>54</td>\n",
       "      <td>Breakfast Spot</td>\n",
       "      <td>1</td>\n",
       "      <td>108</td>\n",
       "      <td>0.009259</td>\n",
       "    </tr>\n",
       "  </tbody>\n",
       "</table>\n",
       "</div>"
      ],
      "text/plain": [
       "   User_ID             Category  Frequency  Total_Visits  Adj_Freq\n",
       "0       54              Airport          5           108  0.046296\n",
       "1       54  American Restaurant          1           108  0.009259\n",
       "2       54                  Bar          1           108  0.009259\n",
       "3       54                Beach          2           108  0.018519\n",
       "4       54       Breakfast Spot          1           108  0.009259"
      ]
     },
     "execution_count": 14,
     "metadata": {},
     "output_type": "execute_result"
    }
   ],
   "source": [
    "R_df.head()"
   ]
  },
  {
   "cell_type": "code",
   "execution_count": 15,
   "metadata": {},
   "outputs": [],
   "source": [
    "R_df = R_df.pivot(index='User_ID', columns=category, values='Adj_Freq').fillna(0)"
   ]
  },
  {
   "cell_type": "code",
   "execution_count": 16,
   "metadata": {},
   "outputs": [
    {
     "data": {
      "text/html": [
       "<div>\n",
       "<style scoped>\n",
       "    .dataframe tbody tr th:only-of-type {\n",
       "        vertical-align: middle;\n",
       "    }\n",
       "\n",
       "    .dataframe tbody tr th {\n",
       "        vertical-align: top;\n",
       "    }\n",
       "\n",
       "    .dataframe thead th {\n",
       "        text-align: right;\n",
       "    }\n",
       "</style>\n",
       "<table border=\"1\" class=\"dataframe\">\n",
       "  <thead>\n",
       "    <tr style=\"text-align: right;\">\n",
       "      <th>Category</th>\n",
       "      <th>Accessories Store</th>\n",
       "      <th>Afghan Restaurant</th>\n",
       "      <th>African Restaurant</th>\n",
       "      <th>Airport</th>\n",
       "      <th>Airport Food Court</th>\n",
       "      <th>Airport Gate</th>\n",
       "      <th>Airport Lounge</th>\n",
       "      <th>Airport Terminal</th>\n",
       "      <th>Airport Tram</th>\n",
       "      <th>American Restaurant</th>\n",
       "      <th>...</th>\n",
       "      <th>Well</th>\n",
       "      <th>Whisky Bar</th>\n",
       "      <th>Wine Bar</th>\n",
       "      <th>Wine Shop</th>\n",
       "      <th>Winery</th>\n",
       "      <th>Wings Joint</th>\n",
       "      <th>Women's Store</th>\n",
       "      <th>Yoga Studio</th>\n",
       "      <th>Yogurt</th>\n",
       "      <th>Zoo</th>\n",
       "    </tr>\n",
       "    <tr>\n",
       "      <th>User_ID</th>\n",
       "      <th></th>\n",
       "      <th></th>\n",
       "      <th></th>\n",
       "      <th></th>\n",
       "      <th></th>\n",
       "      <th></th>\n",
       "      <th></th>\n",
       "      <th></th>\n",
       "      <th></th>\n",
       "      <th></th>\n",
       "      <th></th>\n",
       "      <th></th>\n",
       "      <th></th>\n",
       "      <th></th>\n",
       "      <th></th>\n",
       "      <th></th>\n",
       "      <th></th>\n",
       "      <th></th>\n",
       "      <th></th>\n",
       "      <th></th>\n",
       "      <th></th>\n",
       "    </tr>\n",
       "  </thead>\n",
       "  <tbody>\n",
       "    <tr>\n",
       "      <th>54</th>\n",
       "      <td>0.0</td>\n",
       "      <td>0.0</td>\n",
       "      <td>0.0</td>\n",
       "      <td>0.046296</td>\n",
       "      <td>0.0</td>\n",
       "      <td>0.0</td>\n",
       "      <td>0.0</td>\n",
       "      <td>0.000000</td>\n",
       "      <td>0.0</td>\n",
       "      <td>0.009259</td>\n",
       "      <td>...</td>\n",
       "      <td>0.0</td>\n",
       "      <td>0.0</td>\n",
       "      <td>0.0</td>\n",
       "      <td>0.0</td>\n",
       "      <td>0.009259</td>\n",
       "      <td>0.0</td>\n",
       "      <td>0.0</td>\n",
       "      <td>0.0</td>\n",
       "      <td>0.0</td>\n",
       "      <td>0.0000</td>\n",
       "    </tr>\n",
       "    <tr>\n",
       "      <th>182</th>\n",
       "      <td>0.0</td>\n",
       "      <td>0.0</td>\n",
       "      <td>0.0</td>\n",
       "      <td>0.012500</td>\n",
       "      <td>0.0</td>\n",
       "      <td>0.0</td>\n",
       "      <td>0.0</td>\n",
       "      <td>0.012500</td>\n",
       "      <td>0.0</td>\n",
       "      <td>0.012500</td>\n",
       "      <td>...</td>\n",
       "      <td>0.0</td>\n",
       "      <td>0.0</td>\n",
       "      <td>0.0</td>\n",
       "      <td>0.0</td>\n",
       "      <td>0.000000</td>\n",
       "      <td>0.0</td>\n",
       "      <td>0.0</td>\n",
       "      <td>0.0</td>\n",
       "      <td>0.0</td>\n",
       "      <td>0.0125</td>\n",
       "    </tr>\n",
       "    <tr>\n",
       "      <th>346</th>\n",
       "      <td>0.0</td>\n",
       "      <td>0.0</td>\n",
       "      <td>0.0</td>\n",
       "      <td>0.010526</td>\n",
       "      <td>0.0</td>\n",
       "      <td>0.0</td>\n",
       "      <td>0.0</td>\n",
       "      <td>0.000000</td>\n",
       "      <td>0.0</td>\n",
       "      <td>0.015789</td>\n",
       "      <td>...</td>\n",
       "      <td>0.0</td>\n",
       "      <td>0.0</td>\n",
       "      <td>0.0</td>\n",
       "      <td>0.0</td>\n",
       "      <td>0.000000</td>\n",
       "      <td>0.0</td>\n",
       "      <td>0.0</td>\n",
       "      <td>0.0</td>\n",
       "      <td>0.0</td>\n",
       "      <td>0.0000</td>\n",
       "    </tr>\n",
       "    <tr>\n",
       "      <th>419</th>\n",
       "      <td>0.0</td>\n",
       "      <td>0.0</td>\n",
       "      <td>0.0</td>\n",
       "      <td>0.014706</td>\n",
       "      <td>0.0</td>\n",
       "      <td>0.0</td>\n",
       "      <td>0.0</td>\n",
       "      <td>0.000000</td>\n",
       "      <td>0.0</td>\n",
       "      <td>0.000000</td>\n",
       "      <td>...</td>\n",
       "      <td>0.0</td>\n",
       "      <td>0.0</td>\n",
       "      <td>0.0</td>\n",
       "      <td>0.0</td>\n",
       "      <td>0.000000</td>\n",
       "      <td>0.0</td>\n",
       "      <td>0.0</td>\n",
       "      <td>0.0</td>\n",
       "      <td>0.0</td>\n",
       "      <td>0.0000</td>\n",
       "    </tr>\n",
       "    <tr>\n",
       "      <th>541</th>\n",
       "      <td>0.0</td>\n",
       "      <td>0.0</td>\n",
       "      <td>0.0</td>\n",
       "      <td>0.072289</td>\n",
       "      <td>0.0</td>\n",
       "      <td>0.0</td>\n",
       "      <td>0.0</td>\n",
       "      <td>0.006024</td>\n",
       "      <td>0.0</td>\n",
       "      <td>0.030120</td>\n",
       "      <td>...</td>\n",
       "      <td>0.0</td>\n",
       "      <td>0.0</td>\n",
       "      <td>0.0</td>\n",
       "      <td>0.0</td>\n",
       "      <td>0.000000</td>\n",
       "      <td>0.0</td>\n",
       "      <td>0.0</td>\n",
       "      <td>0.0</td>\n",
       "      <td>0.0</td>\n",
       "      <td>0.0000</td>\n",
       "    </tr>\n",
       "  </tbody>\n",
       "</table>\n",
       "<p>5 rows × 423 columns</p>\n",
       "</div>"
      ],
      "text/plain": [
       "Category  Accessories Store  Afghan Restaurant  African Restaurant   Airport  \\\n",
       "User_ID                                                                        \n",
       "54                      0.0                0.0                 0.0  0.046296   \n",
       "182                     0.0                0.0                 0.0  0.012500   \n",
       "346                     0.0                0.0                 0.0  0.010526   \n",
       "419                     0.0                0.0                 0.0  0.014706   \n",
       "541                     0.0                0.0                 0.0  0.072289   \n",
       "\n",
       "Category  Airport Food Court  Airport Gate  Airport Lounge  Airport Terminal  \\\n",
       "User_ID                                                                        \n",
       "54                       0.0           0.0             0.0          0.000000   \n",
       "182                      0.0           0.0             0.0          0.012500   \n",
       "346                      0.0           0.0             0.0          0.000000   \n",
       "419                      0.0           0.0             0.0          0.000000   \n",
       "541                      0.0           0.0             0.0          0.006024   \n",
       "\n",
       "Category  Airport Tram  American Restaurant   ...    Well  Whisky Bar  \\\n",
       "User_ID                                       ...                       \n",
       "54                 0.0             0.009259   ...     0.0         0.0   \n",
       "182                0.0             0.012500   ...     0.0         0.0   \n",
       "346                0.0             0.015789   ...     0.0         0.0   \n",
       "419                0.0             0.000000   ...     0.0         0.0   \n",
       "541                0.0             0.030120   ...     0.0         0.0   \n",
       "\n",
       "Category  Wine Bar  Wine Shop    Winery  Wings Joint  Women's Store  \\\n",
       "User_ID                                                               \n",
       "54             0.0        0.0  0.009259          0.0            0.0   \n",
       "182            0.0        0.0  0.000000          0.0            0.0   \n",
       "346            0.0        0.0  0.000000          0.0            0.0   \n",
       "419            0.0        0.0  0.000000          0.0            0.0   \n",
       "541            0.0        0.0  0.000000          0.0            0.0   \n",
       "\n",
       "Category  Yoga Studio  Yogurt     Zoo  \n",
       "User_ID                                \n",
       "54                0.0     0.0  0.0000  \n",
       "182               0.0     0.0  0.0125  \n",
       "346               0.0     0.0  0.0000  \n",
       "419               0.0     0.0  0.0000  \n",
       "541               0.0     0.0  0.0000  \n",
       "\n",
       "[5 rows x 423 columns]"
      ]
     },
     "execution_count": 16,
     "metadata": {},
     "output_type": "execute_result"
    }
   ],
   "source": [
    "R_df.head()"
   ]
  },
  {
   "cell_type": "code",
   "execution_count": 17,
   "metadata": {
    "scrolled": true
   },
   "outputs": [
    {
     "name": "stderr",
     "output_type": "stream",
     "text": [
      "/anaconda3/lib/python3.7/site-packages/ipykernel_launcher.py:1: FutureWarning: Method .as_matrix will be removed in a future version. Use .values instead.\n",
      "  \"\"\"Entry point for launching an IPython kernel.\n"
     ]
    }
   ],
   "source": [
    "R = R_df.as_matrix()"
   ]
  },
  {
   "cell_type": "markdown",
   "metadata": {},
   "source": [
    "### Singular Value Decomposition"
   ]
  },
  {
   "cell_type": "code",
   "execution_count": 18,
   "metadata": {},
   "outputs": [],
   "source": [
    "from scipy.sparse.linalg import svds\n",
    "\n",
    "U, sigma, Vt = svds(R, k = 50)"
   ]
  },
  {
   "cell_type": "code",
   "execution_count": 19,
   "metadata": {},
   "outputs": [],
   "source": [
    "sigma = np.diag(sigma)"
   ]
  },
  {
   "cell_type": "code",
   "execution_count": 20,
   "metadata": {},
   "outputs": [],
   "source": [
    "all_user_predicted_ratings = np.dot(np.dot(U, sigma), Vt)\n",
    "preds_df = pd.DataFrame(all_user_predicted_ratings, columns = R_df.columns)"
   ]
  },
  {
   "cell_type": "code",
   "execution_count": 21,
   "metadata": {},
   "outputs": [
    {
     "data": {
      "text/html": [
       "<div>\n",
       "<style scoped>\n",
       "    .dataframe tbody tr th:only-of-type {\n",
       "        vertical-align: middle;\n",
       "    }\n",
       "\n",
       "    .dataframe tbody tr th {\n",
       "        vertical-align: top;\n",
       "    }\n",
       "\n",
       "    .dataframe thead th {\n",
       "        text-align: right;\n",
       "    }\n",
       "</style>\n",
       "<table border=\"1\" class=\"dataframe\">\n",
       "  <thead>\n",
       "    <tr style=\"text-align: right;\">\n",
       "      <th>Category</th>\n",
       "      <th>Accessories Store</th>\n",
       "      <th>Afghan Restaurant</th>\n",
       "      <th>African Restaurant</th>\n",
       "      <th>Airport</th>\n",
       "      <th>Airport Food Court</th>\n",
       "      <th>Airport Gate</th>\n",
       "      <th>Airport Lounge</th>\n",
       "      <th>Airport Terminal</th>\n",
       "      <th>Airport Tram</th>\n",
       "      <th>American Restaurant</th>\n",
       "      <th>...</th>\n",
       "      <th>Well</th>\n",
       "      <th>Whisky Bar</th>\n",
       "      <th>Wine Bar</th>\n",
       "      <th>Wine Shop</th>\n",
       "      <th>Winery</th>\n",
       "      <th>Wings Joint</th>\n",
       "      <th>Women's Store</th>\n",
       "      <th>Yoga Studio</th>\n",
       "      <th>Yogurt</th>\n",
       "      <th>Zoo</th>\n",
       "    </tr>\n",
       "  </thead>\n",
       "  <tbody>\n",
       "    <tr>\n",
       "      <th>0</th>\n",
       "      <td>0.000074</td>\n",
       "      <td>-0.000004</td>\n",
       "      <td>0.000059</td>\n",
       "      <td>0.046695</td>\n",
       "      <td>-0.000008</td>\n",
       "      <td>0.001405</td>\n",
       "      <td>0.000426</td>\n",
       "      <td>0.004053</td>\n",
       "      <td>0.000059</td>\n",
       "      <td>0.016338</td>\n",
       "      <td>...</td>\n",
       "      <td>0.000928</td>\n",
       "      <td>0.000394</td>\n",
       "      <td>0.001497</td>\n",
       "      <td>0.000341</td>\n",
       "      <td>0.000496</td>\n",
       "      <td>0.000809</td>\n",
       "      <td>0.000087</td>\n",
       "      <td>0.000390</td>\n",
       "      <td>0.000008</td>\n",
       "      <td>0.000531</td>\n",
       "    </tr>\n",
       "    <tr>\n",
       "      <th>1</th>\n",
       "      <td>0.000275</td>\n",
       "      <td>-0.000007</td>\n",
       "      <td>-0.000023</td>\n",
       "      <td>0.012758</td>\n",
       "      <td>0.000040</td>\n",
       "      <td>0.002067</td>\n",
       "      <td>0.000696</td>\n",
       "      <td>0.006647</td>\n",
       "      <td>0.000076</td>\n",
       "      <td>0.012332</td>\n",
       "      <td>...</td>\n",
       "      <td>-0.000062</td>\n",
       "      <td>0.000617</td>\n",
       "      <td>0.000658</td>\n",
       "      <td>-0.000060</td>\n",
       "      <td>-0.000355</td>\n",
       "      <td>0.000611</td>\n",
       "      <td>-0.000126</td>\n",
       "      <td>0.000988</td>\n",
       "      <td>-0.000005</td>\n",
       "      <td>0.001534</td>\n",
       "    </tr>\n",
       "    <tr>\n",
       "      <th>2</th>\n",
       "      <td>0.000144</td>\n",
       "      <td>-0.000005</td>\n",
       "      <td>0.000010</td>\n",
       "      <td>0.009717</td>\n",
       "      <td>0.000001</td>\n",
       "      <td>0.000035</td>\n",
       "      <td>-0.000361</td>\n",
       "      <td>0.003012</td>\n",
       "      <td>0.000018</td>\n",
       "      <td>0.017625</td>\n",
       "      <td>...</td>\n",
       "      <td>0.000004</td>\n",
       "      <td>0.000094</td>\n",
       "      <td>0.001182</td>\n",
       "      <td>0.000928</td>\n",
       "      <td>0.001133</td>\n",
       "      <td>0.001521</td>\n",
       "      <td>0.000856</td>\n",
       "      <td>0.000125</td>\n",
       "      <td>-0.000023</td>\n",
       "      <td>0.000502</td>\n",
       "    </tr>\n",
       "    <tr>\n",
       "      <th>3</th>\n",
       "      <td>-0.000068</td>\n",
       "      <td>-0.000006</td>\n",
       "      <td>0.000331</td>\n",
       "      <td>0.014919</td>\n",
       "      <td>-0.000003</td>\n",
       "      <td>0.000183</td>\n",
       "      <td>-0.000699</td>\n",
       "      <td>0.002398</td>\n",
       "      <td>-0.000058</td>\n",
       "      <td>0.000051</td>\n",
       "      <td>...</td>\n",
       "      <td>0.000446</td>\n",
       "      <td>-0.000054</td>\n",
       "      <td>0.001217</td>\n",
       "      <td>0.000006</td>\n",
       "      <td>-0.000375</td>\n",
       "      <td>0.000472</td>\n",
       "      <td>0.000987</td>\n",
       "      <td>0.000567</td>\n",
       "      <td>0.000037</td>\n",
       "      <td>0.000564</td>\n",
       "    </tr>\n",
       "    <tr>\n",
       "      <th>4</th>\n",
       "      <td>0.000041</td>\n",
       "      <td>-0.000008</td>\n",
       "      <td>-0.000082</td>\n",
       "      <td>0.071913</td>\n",
       "      <td>0.000008</td>\n",
       "      <td>0.003099</td>\n",
       "      <td>0.002305</td>\n",
       "      <td>0.008484</td>\n",
       "      <td>0.000179</td>\n",
       "      <td>0.026015</td>\n",
       "      <td>...</td>\n",
       "      <td>-0.000141</td>\n",
       "      <td>0.000195</td>\n",
       "      <td>0.001110</td>\n",
       "      <td>0.000266</td>\n",
       "      <td>0.001123</td>\n",
       "      <td>0.003105</td>\n",
       "      <td>-0.000076</td>\n",
       "      <td>0.000466</td>\n",
       "      <td>-0.000003</td>\n",
       "      <td>0.000452</td>\n",
       "    </tr>\n",
       "  </tbody>\n",
       "</table>\n",
       "<p>5 rows × 423 columns</p>\n",
       "</div>"
      ],
      "text/plain": [
       "Category  Accessories Store  Afghan Restaurant  African Restaurant   Airport  \\\n",
       "0                  0.000074          -0.000004            0.000059  0.046695   \n",
       "1                  0.000275          -0.000007           -0.000023  0.012758   \n",
       "2                  0.000144          -0.000005            0.000010  0.009717   \n",
       "3                 -0.000068          -0.000006            0.000331  0.014919   \n",
       "4                  0.000041          -0.000008           -0.000082  0.071913   \n",
       "\n",
       "Category  Airport Food Court  Airport Gate  Airport Lounge  Airport Terminal  \\\n",
       "0                  -0.000008      0.001405        0.000426          0.004053   \n",
       "1                   0.000040      0.002067        0.000696          0.006647   \n",
       "2                   0.000001      0.000035       -0.000361          0.003012   \n",
       "3                  -0.000003      0.000183       -0.000699          0.002398   \n",
       "4                   0.000008      0.003099        0.002305          0.008484   \n",
       "\n",
       "Category  Airport Tram  American Restaurant    ...         Well  Whisky Bar  \\\n",
       "0             0.000059             0.016338    ...     0.000928    0.000394   \n",
       "1             0.000076             0.012332    ...    -0.000062    0.000617   \n",
       "2             0.000018             0.017625    ...     0.000004    0.000094   \n",
       "3            -0.000058             0.000051    ...     0.000446   -0.000054   \n",
       "4             0.000179             0.026015    ...    -0.000141    0.000195   \n",
       "\n",
       "Category  Wine Bar  Wine Shop    Winery  Wings Joint  Women's Store  \\\n",
       "0         0.001497   0.000341  0.000496     0.000809       0.000087   \n",
       "1         0.000658  -0.000060 -0.000355     0.000611      -0.000126   \n",
       "2         0.001182   0.000928  0.001133     0.001521       0.000856   \n",
       "3         0.001217   0.000006 -0.000375     0.000472       0.000987   \n",
       "4         0.001110   0.000266  0.001123     0.003105      -0.000076   \n",
       "\n",
       "Category  Yoga Studio    Yogurt       Zoo  \n",
       "0            0.000390  0.000008  0.000531  \n",
       "1            0.000988 -0.000005  0.001534  \n",
       "2            0.000125 -0.000023  0.000502  \n",
       "3            0.000567  0.000037  0.000564  \n",
       "4            0.000466 -0.000003  0.000452  \n",
       "\n",
       "[5 rows x 423 columns]"
      ]
     },
     "execution_count": 21,
     "metadata": {},
     "output_type": "execute_result"
    }
   ],
   "source": [
    "preds_df.head()"
   ]
  },
  {
   "cell_type": "code",
   "execution_count": 22,
   "metadata": {},
   "outputs": [],
   "source": [
    "def predict_check_ins(preds_df, num_recommendations=1):\n",
    "    correct = 0\n",
    "    for row in preds_df.index:\n",
    "        preds = preds_df.iloc[row].sort_values(ascending=False)[0:num_recommendations]\n",
    "        X_test_rows = X_test[X_test['User_ID'] == R_df.index[row]]\n",
    "        X_test_rows = X_test_rows[X_test_rows[category].isin(preds.index)]\n",
    "        if not X_test_rows.empty: correct += 1\n",
    "    accuracy = correct / len(preds_df.index)\n",
    "    return accuracy\n",
    "\n",
    "acc = predict_check_ins(preds_df)"
   ]
  },
  {
   "cell_type": "code",
   "execution_count": 23,
   "metadata": {},
   "outputs": [
    {
     "data": {
      "text/plain": [
       "0.8362445414847162"
      ]
     },
     "execution_count": 23,
     "metadata": {},
     "output_type": "execute_result"
    }
   ],
   "source": [
    "acc"
   ]
  },
  {
   "cell_type": "markdown",
   "metadata": {},
   "source": [
    "### Analysis"
   ]
  }
 ],
 "metadata": {
  "anaconda-cloud": {},
  "kernelspec": {
   "display_name": "Python 3",
   "language": "python",
   "name": "python3"
  },
  "language_info": {
   "codemirror_mode": {
    "name": "ipython",
    "version": 3
   },
   "file_extension": ".py",
   "mimetype": "text/x-python",
   "name": "python",
   "nbconvert_exporter": "python",
   "pygments_lexer": "ipython3",
   "version": "3.7.0"
  }
 },
 "nbformat": 4,
 "nbformat_minor": 2
}
