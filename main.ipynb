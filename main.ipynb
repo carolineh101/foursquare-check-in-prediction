{
 "cells": [
  {
   "cell_type": "markdown",
   "metadata": {},
   "source": [
    "<h1>Predicting Gender from Foursquare Attributes</h1>\n",
    "<h2>MS&E 234</h2>"
   ]
  },
  {
   "cell_type": "markdown",
   "metadata": {},
   "source": [
    "<h3>Setup</h3>"
   ]
  },
  {
   "cell_type": "code",
   "execution_count": 1,
   "metadata": {},
   "outputs": [],
   "source": [
    "import pandas as pd\n",
    "import numpy as np\n",
    "from matplotlib import pyplot as plt"
   ]
  },
  {
   "cell_type": "markdown",
   "metadata": {},
   "source": [
    "Download Dingqi Yang's 'User Profile Dataset' and 'Global-scale Check-in Dataset with User Social Networks' [here](https://sites.google.com/site/yangdingqi/home/foursquare-dataset) and place them in this directory."
   ]
  },
  {
   "cell_type": "code",
   "execution_count": 2,
   "metadata": {},
   "outputs": [],
   "source": [
    "# User Profile Paths\n",
    "user_profile_dir = 'dataset_UbiComp2016/'\n",
    "profile_data = 'dataset_UbiComp2016_UserProfile_NYC.txt'"
   ]
  },
  {
   "cell_type": "markdown",
   "metadata": {},
   "source": [
    "### Preprocessing\n",
    "\n",
    "The following functions parse user profile and check-in data. The functions returns the gender and check-ins for each user."
   ]
  },
  {
   "cell_type": "code",
   "execution_count": 3,
   "metadata": {},
   "outputs": [],
   "source": [
    "def parse_genders(filename):\n",
    "    \"\"\" Parse user profile dataset for gender.\n",
    "        \n",
    "        Parameters:\n",
    "        - filename = path to user profile dataset\n",
    "        Returns:\n",
    "        - genders = dataframe containing gender for each user\n",
    "    \"\"\"\n",
    "    def convert_gender(series):\n",
    "        return int(series == 'male')\n",
    "    \n",
    "    genders = pd.read_csv(filename, usecols=[0, 1], delimiter='\\t', header=None, converters={1: convert_gender}, names=['User_ID', 'Gender'])\n",
    "    return genders\n",
    "\n",
    "genders = parse_genders(user_profile_dir + profile_data)"
   ]
  },
  {
   "cell_type": "markdown",
   "metadata": {},
   "source": [
    "**IMPORTANT**: Before running the next cell, run (NOTEBOOK) to generate the check-in dataset."
   ]
  },
  {
   "cell_type": "code",
   "execution_count": 4,
   "metadata": {},
   "outputs": [],
   "source": [
    "# Check-In Data\n",
    "check_ins = pd.read_csv('gender-checkins-complete.csv', delimiter='\\t')"
   ]
  },
  {
   "cell_type": "markdown",
   "metadata": {},
   "source": [
    "### Exploration"
   ]
  },
  {
   "cell_type": "markdown",
   "metadata": {},
   "source": [
    "Let's take a look at our check-in data."
   ]
  },
  {
   "cell_type": "code",
   "execution_count": 5,
   "metadata": {},
   "outputs": [
    {
     "data": {
      "text/html": [
       "<div>\n",
       "<style scoped>\n",
       "    .dataframe tbody tr th:only-of-type {\n",
       "        vertical-align: middle;\n",
       "    }\n",
       "\n",
       "    .dataframe tbody tr th {\n",
       "        vertical-align: top;\n",
       "    }\n",
       "\n",
       "    .dataframe thead th {\n",
       "        text-align: right;\n",
       "    }\n",
       "</style>\n",
       "<table border=\"1\" class=\"dataframe\">\n",
       "  <thead>\n",
       "    <tr style=\"text-align: right;\">\n",
       "      <th></th>\n",
       "      <th>Unnamed: 0</th>\n",
       "      <th>User_ID</th>\n",
       "      <th>Venue_ID</th>\n",
       "      <th>UTC_Time</th>\n",
       "      <th>Timezone_Offset</th>\n",
       "      <th>Lat</th>\n",
       "      <th>Long</th>\n",
       "      <th>Category</th>\n",
       "      <th>Country_Code</th>\n",
       "    </tr>\n",
       "  </thead>\n",
       "  <tbody>\n",
       "    <tr>\n",
       "      <th>0</th>\n",
       "      <td>0</td>\n",
       "      <td>21939</td>\n",
       "      <td>4dd53b151f6ec4e0bb8c0480</td>\n",
       "      <td>Tue Apr 03 18:00:49 +0000 2012</td>\n",
       "      <td>-240</td>\n",
       "      <td>39.285600</td>\n",
       "      <td>-76.612047</td>\n",
       "      <td>Clothing Store</td>\n",
       "      <td>US</td>\n",
       "    </tr>\n",
       "    <tr>\n",
       "      <th>1</th>\n",
       "      <td>1</td>\n",
       "      <td>163646</td>\n",
       "      <td>4b70040ff964a52080032de3</td>\n",
       "      <td>Tue Apr 03 18:01:31 +0000 2012</td>\n",
       "      <td>-240</td>\n",
       "      <td>25.716845</td>\n",
       "      <td>-80.281378</td>\n",
       "      <td>College Cafeteria</td>\n",
       "      <td>US</td>\n",
       "    </tr>\n",
       "    <tr>\n",
       "      <th>2</th>\n",
       "      <td>2</td>\n",
       "      <td>256534</td>\n",
       "      <td>4b29929cf964a5200fa124e3</td>\n",
       "      <td>Tue Apr 03 18:01:37 +0000 2012</td>\n",
       "      <td>-360</td>\n",
       "      <td>40.726135</td>\n",
       "      <td>-111.852087</td>\n",
       "      <td>American Restaurant</td>\n",
       "      <td>US</td>\n",
       "    </tr>\n",
       "    <tr>\n",
       "      <th>3</th>\n",
       "      <td>3</td>\n",
       "      <td>176836</td>\n",
       "      <td>4b66f88ff964a520eb322be3</td>\n",
       "      <td>Tue Apr 03 18:01:40 +0000 2012</td>\n",
       "      <td>-300</td>\n",
       "      <td>29.661129</td>\n",
       "      <td>-95.115077</td>\n",
       "      <td>Community College</td>\n",
       "      <td>US</td>\n",
       "    </tr>\n",
       "    <tr>\n",
       "      <th>4</th>\n",
       "      <td>4</td>\n",
       "      <td>181560</td>\n",
       "      <td>4bc7086715a7ef3bef9878da</td>\n",
       "      <td>Tue Apr 03 18:02:41 +0000 2012</td>\n",
       "      <td>-240</td>\n",
       "      <td>40.745164</td>\n",
       "      <td>-73.982519</td>\n",
       "      <td>Medical Center</td>\n",
       "      <td>US</td>\n",
       "    </tr>\n",
       "  </tbody>\n",
       "</table>\n",
       "</div>"
      ],
      "text/plain": [
       "   Unnamed: 0  User_ID                  Venue_ID  \\\n",
       "0           0    21939  4dd53b151f6ec4e0bb8c0480   \n",
       "1           1   163646  4b70040ff964a52080032de3   \n",
       "2           2   256534  4b29929cf964a5200fa124e3   \n",
       "3           3   176836  4b66f88ff964a520eb322be3   \n",
       "4           4   181560  4bc7086715a7ef3bef9878da   \n",
       "\n",
       "                         UTC_Time  Timezone_Offset        Lat        Long  \\\n",
       "0  Tue Apr 03 18:00:49 +0000 2012             -240  39.285600  -76.612047   \n",
       "1  Tue Apr 03 18:01:31 +0000 2012             -240  25.716845  -80.281378   \n",
       "2  Tue Apr 03 18:01:37 +0000 2012             -360  40.726135 -111.852087   \n",
       "3  Tue Apr 03 18:01:40 +0000 2012             -300  29.661129  -95.115077   \n",
       "4  Tue Apr 03 18:02:41 +0000 2012             -240  40.745164  -73.982519   \n",
       "\n",
       "              Category Country_Code  \n",
       "0       Clothing Store           US  \n",
       "1    College Cafeteria           US  \n",
       "2  American Restaurant           US  \n",
       "3    Community College           US  \n",
       "4       Medical Center           US  "
      ]
     },
     "execution_count": 5,
     "metadata": {},
     "output_type": "execute_result"
    }
   ],
   "source": [
    "check_ins.head()"
   ]
  },
  {
   "cell_type": "markdown",
   "metadata": {},
   "source": [
    "As we can see, most users have relatively few check-ins."
   ]
  },
  {
   "cell_type": "code",
   "execution_count": 6,
   "metadata": {},
   "outputs": [
    {
     "data": {
      "text/plain": [
       "Text(0,0.5,'Number of Users')"
      ]
     },
     "execution_count": 6,
     "metadata": {},
     "output_type": "execute_result"
    },
    {
     "data": {
      "image/png": "[encoded data removed]",
      "text/plain": [
       "<Figure size 432x288 with 1 Axes>"
      ]
     },
     "metadata": {
      "needs_background": "light"
     },
     "output_type": "display_data"
    }
   ],
   "source": [
    "counts = check_ins['User_ID'].value_counts().value_counts()\n",
    "ax = counts.plot(title='Number of Check-ins', grid=True, logx=True)\n",
    "ax.set_xlabel('Number of Check-ins per User (Log Scale)')\n",
    "ax.set_ylabel('Number of Users')"
   ]
  },
  {
   "cell_type": "markdown",
   "metadata": {},
   "source": [
    "### Prediction\n",
    "\n",
    "We now predict gender based on check-ins.\n",
    "\n",
    "#### Data Split"
   ]
  },
  {
   "cell_type": "code",
   "execution_count": 9,
   "metadata": {},
   "outputs": [],
   "source": [
    "def split_y(genders, split, seed):\n",
    "    \"\"\" Split gender data into train and test sets.\n",
    "        \n",
    "        Parameters:\n",
    "        - genders = gender dataset\n",
    "        - split = percentage from 0 to 1 of training data\n",
    "        Returns:\n",
    "        - train, test splits\n",
    "    \"\"\"\n",
    "    genders = genders.sample(frac=1, random_state=seed)\n",
    "    split = int(split * genders.shape[0])\n",
    "    train = genders[:split]\n",
    "    test = genders[split:]\n",
    "    return train, test\n",
    "\n",
    "y_train, y_test = split_y(genders, 0.7, 0)"
   ]
  },
  {
   "cell_type": "code",
   "execution_count": 15,
   "metadata": {},
   "outputs": [],
   "source": [
    "X_train = check_ins[check_ins['User_ID'].isin(y_train['User_ID'])]\n",
    "X_test = check_ins[check_ins['User_ID'].isin(y_test['User_ID'])]"
   ]
  },
  {
   "cell_type": "markdown",
   "metadata": {},
   "source": [
    "#### Model"
   ]
  }
 ],
 "metadata": {
  "anaconda-cloud": {},
  "kernelspec": {
   "display_name": "Python 3",
   "language": "python",
   "name": "python3"
  },
  "language_info": {
   "codemirror_mode": {
    "name": "ipython",
    "version": 3
   },
   "file_extension": ".py",
   "mimetype": "text/x-python",
   "name": "python",
   "nbconvert_exporter": "python",
   "pygments_lexer": "ipython3",
   "version": "3.7.0"
  }
 },
 "nbformat": 4,
 "nbformat_minor": 2
}
