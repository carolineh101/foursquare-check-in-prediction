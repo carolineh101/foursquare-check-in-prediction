{
 "cells": [
  {
   "cell_type": "markdown",
   "metadata": {},
   "source": [
    "<h1>Predicting Gender from Foursquare Attributes</h1>\n",
    "<h2>MS&E 234</h2>"
   ]
  },
  {
   "cell_type": "markdown",
   "metadata": {},
   "source": [
    "<h3>Setup</h3>"
   ]
  },
  {
   "cell_type": "code",
   "execution_count": 1,
   "metadata": {},
   "outputs": [],
   "source": [
    "import pandas as pd\n",
    "import numpy as np\n",
    "from matplotlib import pyplot as plt\n",
    "from scipy.sparse import csc_matrix\n",
    "from typing import List"
   ]
  },
  {
   "cell_type": "markdown",
   "metadata": {},
   "source": [
    "Download Dingqi Yang's 'User Profile Dataset' and 'Global-scale Check-in Dataset with User Social Networks' [here](https://sites.google.com/site/yangdingqi/home/foursquare-dataset) and place them in this directory."
   ]
  },
  {
   "cell_type": "code",
   "execution_count": 2,
   "metadata": {},
   "outputs": [],
   "source": [
    "# User Profile Paths\n",
    "user_profile_dir = 'dataset_UbiComp2016/'\n",
    "nyc = 'dataset_UbiComp2016_UserProfile_NYC.txt'\n",
    "tky = 'dataset_UbiComp2016_UserProfile_TKY.txt'\n",
    "\n",
    "# Social Network Paths\n",
    "social_network_dir = 'dataset_WWW2019/'\n",
    "friendships = 'dataset_WWW_friendship_new.txt'"
   ]
  },
  {
   "cell_type": "markdown",
   "metadata": {},
   "source": [
    "<h3>Preprocessing</h3>"
   ]
  },
  {
   "cell_type": "markdown",
   "metadata": {},
   "source": [
    "The following functions parse user profile and friendship data. The functions returns the gender for each user and social network adjacency matrix."
   ]
  },
  {
   "cell_type": "code",
   "execution_count": 3,
   "metadata": {},
   "outputs": [],
   "source": [
    "def parse_genders(filenames):\n",
    "    \"\"\" Parse user profile datasets for gender.\n",
    "        \n",
    "        Parameters:\n",
    "        - filenames = list of paths to user profile dataset\n",
    "        Returns:\n",
    "        - genders = dict containing gender for each user\n",
    "    \"\"\"\n",
    "    genders = {}\n",
    "    for f in filenames:\n",
    "        parsed = np.genfromtxt(f, usecols=(0, 1), dtype=[('user_id', np.int32), ('gender', np.unicode_, 16)])\n",
    "        genders.update({user_id: int(gender == 'male') for (user_id, gender) in parsed})\n",
    "    return genders\n",
    "\n",
    "genders = parse_genders([user_profile_dir + nyc, user_profile_dir + tky])"
   ]
  },
  {
   "cell_type": "code",
   "execution_count": 4,
   "metadata": {},
   "outputs": [],
   "source": [
    "def parse_friendships(filename):\n",
    "    \"\"\" Parse friendship dataset.\n",
    "        \n",
    "        Parameters:\n",
    "        - filename = path to friendship dataset\n",
    "        Returns:\n",
    "        - adj = sparse adjacency matrix of friendships\n",
    "    \"\"\"\n",
    "    parsed = np.genfromtxt(filename, dtype=[('user_id', np.int32), ('friend_id', np.int32)])\n",
    "    rows = [parsed[i][0] for i in range(parsed.shape[0]) if parsed[i][0] in genders and parsed[i][1] in genders]\n",
    "    cols = [parsed[i][1] for i in range(parsed.shape[0]) if parsed[i][0] in genders and parsed[i][1] in genders]\n",
    "    max_id = max(max(rows), max(cols))\n",
    "    temp = rows.copy()\n",
    "    rows.extend(cols)\n",
    "    cols.extend(temp)\n",
    "    data = [1]*len(rows)\n",
    "    adj = csc_matrix((data, (rows, cols)), shape=(max_id + 1, max_id + 1), dtype=np.int8)\n",
    "    return adj\n",
    "\n",
    "adj = parse_friendships(social_network_dir + friendships)"
   ]
  }
 ],
 "metadata": {
  "anaconda-cloud": {},
  "kernelspec": {
   "display_name": "Python 3",
   "language": "python",
   "name": "python3"
  },
  "language_info": {
   "codemirror_mode": {
    "name": "ipython",
    "version": 3
   },
   "file_extension": ".py",
   "mimetype": "text/x-python",
   "name": "python",
   "nbconvert_exporter": "python",
   "pygments_lexer": "ipython3",
   "version": "3.7.0"
  }
 },
 "nbformat": 4,
 "nbformat_minor": 2
}
